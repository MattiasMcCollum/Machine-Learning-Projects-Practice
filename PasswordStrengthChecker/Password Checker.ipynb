{
 "cells": [
  {
   "cell_type": "markdown",
   "id": "060ccdac",
   "metadata": {},
   "source": [
    "## Password Strength Check\n",
    "\n",
    "This notebook is a small-scale project meant to provide some insight into the means of how passwords can be assessed in terms of how strong they are by training a ML model on a dataset of variable length/complexity passwords each with an assigned label of \"weak\", \"medium\" or \"strong\".\n",
    "\n",
    "To try this out, I've made use of a free dataset available on [Kaggle](https://www.kaggle.com/datasets/bhavikbb/password-strength-classifier-dataset?resource=download)"
   ]
  },
  {
   "cell_type": "markdown",
   "id": "8daf5348",
   "metadata": {},
   "source": [
    "To start with, we can import the necessary packages. `Matplotlib` and `seaborn` for some appealing plotting,`pandas` for data reading and manipulation, `numpy` for numerical processing, and for the actual machine learning itself, we will try using a random forest classification system. `sklearn` will cover all of this"
   ]
  },
  {
   "cell_type": "code",
   "execution_count": 50,
   "id": "d7e46bfe",
   "metadata": {},
   "outputs": [
    {
     "name": "stdout",
     "output_type": "stream",
     "text": [
      "           password  strength\n",
      "0          kzde5577         1\n",
      "1          kino3434         1\n",
      "2         visi7k1yr         1\n",
      "3          megzy123         1\n",
      "4       lamborghin1         1\n",
      "5  AVYq1lDE4MgAZfNt         2\n",
      "6          u6c8vhow         1\n",
      "7          v1118714         1\n",
      "8      universe2908         1\n",
      "9          as326159         1\n",
      "\n",
      "Number of entries;\t 669640\n"
     ]
    }
   ],
   "source": [
    "import numpy as np\n",
    "import matplotlib.pyplot as plt\n",
    "import seaborn as sns; sns.set()\n",
    "import pandas as pd\n",
    "import getpass\n",
    "from sklearn.ensemble import RandomForestClassifier\n",
    "from sklearn.feature_extraction.text import CountVectorizer\n",
    "from sklearn.feature_extraction.text import TfidfVectorizer\n",
    "from sklearn.model_selection import train_test_split\n",
    "\n",
    "#When readin in the data, the potential for non-standard strings including the likes of too many ','s may cause issues,\n",
    "#but we want to keep these as they are part of the actual passwords. error_bad_lines ensures this and warn_bad__lines \n",
    "#set to False suppresses warnings for each line where this occurs\n",
    "df = pd.read_csv(\"password.csv\", error_bad_lines=False, warn_bad_lines=False)\n",
    "print(df.head(10))\n",
    "print('\\nNumber of entries;\\t ' + str(len(df)))"
   ]
  },
  {
   "cell_type": "markdown",
   "id": "ce8d3cbe",
   "metadata": {},
   "source": [
    "Above, we see that we have ~670,000 passwords in our dataframe, each with an assigned strength value from 0-2;\n",
    "\n",
    "##### 0: Password is weak\n",
    "##### 1: Password is average\n",
    "##### 2: Password is strong\n",
    "\n",
    "To make things easier, we can simply just convert these from a numeric to categorical type by replacing the int values with their corresponding stregth"
   ]
  },
  {
   "cell_type": "code",
   "execution_count": null,
   "id": "e1734e72",
   "metadata": {},
   "outputs": [],
   "source": [
    "df = df.dropna()\n",
    "df[\"strength\"] = df[\"strength\"].map({0: \"Weak\", 1: \"Medium\", 2: \"Strong\"})\n",
    "df.sample(10)"
   ]
  },
  {
   "cell_type": "markdown",
   "id": "117826f3",
   "metadata": {},
   "source": [
    "Good. Now we can see that our dataset is both free of NaN values and is readily classifiable based on the strenght property. We can now look to actually training an ML model on it as a measn of predictiong strength\n",
    "One of the first things we need to do is tokenisation; Essentially a means of learning from the combination of random characters, letters and numbers and how their combination leads to higher or lower stregnth\n",
    "\n",
    "A small apendix on tokenisation will be at the end of this notebook, just for posterity's sake"
   ]
  },
  {
   "cell_type": "code",
   "execution_count": 48,
   "id": "ac8966b1",
   "metadata": {},
   "outputs": [],
   "source": [
    "##To start tokenising our data, we can first define a function to deconstruct a password into an \n",
    "#array of its charcaters\n",
    "\n",
    "def chars(password):\n",
    "    chars = []\n",
    "    for i in password:\n",
    "        chars.append(i)\n",
    "    return chars\n",
    "\n",
    "x_data = np.array(df['password'])\n",
    "y_data = np.array(df['strength'])\n",
    "\n",
    "#With our data seperated into arrays, we can run some vectorisation using our chars func (the tokeniser), \n",
    "#and the tfidf function from sklearn (the vectoriser).\n",
    "tdif = TfidfVectorizer(tokenizer=chars)\n",
    "x_data = tdif.fit_transform(x_data)\n",
    "xtrain, xtest, ytrain, ytest = train_test_split(x_data,y_data,test_size=0.05,random_state=27)\n"
   ]
  },
  {
   "cell_type": "markdown",
   "id": "17045b04",
   "metadata": {},
   "source": [
    "Now that we've run both the tokenisation and splitting the dataset into train and test sets, we can actually run our\n",
    "model training and estimation"
   ]
  },
  {
   "cell_type": "code",
   "execution_count": 49,
   "id": "3a7f4f39",
   "metadata": {},
   "outputs": [
    {
     "name": "stderr",
     "output_type": "stream",
     "text": [
      "[Parallel(n_jobs=10)]: Using backend ThreadingBackend with 10 concurrent workers.\n"
     ]
    },
    {
     "name": "stdout",
     "output_type": "stream",
     "text": [
      "building tree 1 of 100\n",
      "building tree 2 of 100\n",
      "building tree 3 of 100\n",
      "building tree 4 of 100\n",
      "building tree 5 of 100\n",
      "building tree 6 of 100\n",
      "building tree 7 of 100\n",
      "building tree 8 of 100\n",
      "building tree 9 of 100\n",
      "building tree 10 of 100\n",
      "building tree 11 of 100\n",
      "building tree 12 of 100\n",
      "building tree 13 of 100\n",
      "building tree 14 of 100\n",
      "building tree 15 of 100\n",
      "building tree 16 of 100\n",
      "building tree 17 of 100\n",
      "building tree 18 of 100\n",
      "building tree 19 of 100\n",
      "building tree 20 of 100\n",
      "building tree 21 of 100\n",
      "building tree 22 of 100\n"
     ]
    },
    {
     "name": "stderr",
     "output_type": "stream",
     "text": [
      "[Parallel(n_jobs=10)]: Done  12 tasks      | elapsed:   32.3s\n"
     ]
    },
    {
     "name": "stdout",
     "output_type": "stream",
     "text": [
      "building tree 23 of 100\n",
      "building tree 24 of 100\n",
      "building tree 25 of 100\n",
      "building tree 26 of 100\n",
      "building tree 27 of 100\n",
      "building tree 28 of 100\n",
      "building tree 29 of 100\n",
      "building tree 30 of 100\n",
      "building tree 31 of 100\n",
      "building tree 32 of 100\n",
      "building tree 33 of 100\n",
      "building tree 34 of 100\n",
      "building tree 35 of 100\n",
      "building tree 36 of 100\n",
      "building tree 37 of 100\n",
      "building tree 38 of 100\n",
      "building tree 39 of 100\n",
      "building tree 40 of 100\n",
      "building tree 41 of 100\n",
      "building tree 42 of 100\n",
      "building tree 43 of 100\n",
      "building tree 44 of 100\n",
      "building tree 45 of 100\n",
      "building tree 46 of 100\n",
      "building tree 47 of 100\n",
      "building tree 48 of 100\n",
      "building tree 49 of 100\n",
      "building tree 50 of 100\n",
      "building tree 51 of 100\n",
      "building tree 52 of 100\n",
      "building tree 53 of 100\n",
      "building tree 54 of 100\n",
      "building tree 55 of 100\n",
      "building tree 56 of 100\n",
      "building tree 57 of 100\n",
      "building tree 58 of 100\n",
      "building tree 59 of 100\n",
      "building tree 60 of 100\n",
      "building tree 61 of 100\n",
      "building tree 62 of 100\n",
      "building tree 63 of 100\n",
      "building tree 64 of 100\n",
      "building tree 65 of 100\n",
      "building tree 66 of 100\n",
      "building tree 67 of 100\n",
      "building tree 68 of 100\n",
      "building tree 69 of 100\n",
      "building tree 70 of 100\n",
      "building tree 71 of 100\n",
      "building tree 72 of 100\n",
      "building tree 73 of 100\n",
      "building tree 74 of 100\n",
      "building tree 75 of 100\n",
      "building tree 76 of 100\n",
      "building tree 77 of 100\n",
      "building tree 78 of 100\n",
      "building tree 79 of 100\n",
      "building tree 80 of 100\n",
      "building tree 81 of 100\n",
      "building tree 82 of 100\n",
      "building tree 83 of 100\n",
      "building tree 84 of 100\n",
      "building tree 85 of 100\n",
      "building tree 86 of 100\n",
      "building tree 87 of 100\n",
      "building tree 88 of 100\n",
      "building tree 89 of 100\n",
      "building tree 90 of 100\n",
      "building tree 91 of 100\n",
      "building tree 92 of 100\n",
      "building tree 93 of 100\n",
      "building tree 94 of 100\n",
      "building tree 95 of 100\n",
      "building tree 96 of 100\n",
      "building tree 97 of 100\n",
      "building tree 98 of 100\n",
      "building tree 99 of 100\n",
      "building tree 100 of 100\n"
     ]
    },
    {
     "name": "stderr",
     "output_type": "stream",
     "text": [
      "[Parallel(n_jobs=10)]: Done 100 out of 100 | elapsed:  2.6min finished\n",
      "[Parallel(n_jobs=10)]: Using backend ThreadingBackend with 10 concurrent workers.\n",
      "[Parallel(n_jobs=10)]: Done  12 tasks      | elapsed:    0.0s\n"
     ]
    },
    {
     "name": "stdout",
     "output_type": "stream",
     "text": [
      "Model score: 0.9566334149692372\n"
     ]
    },
    {
     "name": "stderr",
     "output_type": "stream",
     "text": [
      "[Parallel(n_jobs=10)]: Done 100 out of 100 | elapsed:    0.3s finished\n"
     ]
    }
   ],
   "source": [
    "model = RandomForestClassifier(n_jobs=10, verbose=3) #verbose will give updates on current tree being built\n",
    "model.fit(xtrain, ytrain)\n",
    "print('Model score: {}'.format(str(model.score(xtest, ytest))))"
   ]
  },
  {
   "cell_type": "markdown",
   "id": "8ceb4940",
   "metadata": {},
   "source": [
    "From above, we see that our random forest is assessing our testing data with around 65% accuracy, which is decent enough and can potentially be improved upon with decreasing our test sample alittle more\n",
    "But with this acceptable level of accuracy, we can then try it our for ourselves with our own custom password we can pass and fit apply to our fittedn model"
   ]
  },
  {
   "cell_type": "code",
   "execution_count": 67,
   "id": "4e3dfc8f",
   "metadata": {},
   "outputs": [
    {
     "ename": "SyntaxError",
     "evalue": "invalid syntax (4114851292.py, line 6)",
     "output_type": "error",
     "traceback": [
      "\u001b[0;36m  File \u001b[0;32m\"/var/folders/sn/qjsjgpk91pj6nf0yhq__zgkh0000gn/T/ipykernel_9163/4114851292.py\"\u001b[0;36m, line \u001b[0;32m6\u001b[0m\n\u001b[0;31m    match est:\u001b[0m\n\u001b[0m          ^\u001b[0m\n\u001b[0;31mSyntaxError\u001b[0m\u001b[0;31m:\u001b[0m invalid syntax\n"
     ]
    }
   ],
   "source": [
    "#already imported the getpass module\n",
    "usr = getpass.getpass('Please enter password: ')\n",
    "dat = tdif.transform([usr]).toarray()\n",
    "est = model.predict(dat)[0]\n",
    "\n",
    "match est[0]:\n",
    "    case \"Weak\":\n",
    "        bar = u\"\\u25A2\"*3\n",
    "    case \"Medium\":\n",
    "        bar = u\"\\u25A2\"*9\n",
    "    case \"Strong\":\n",
    "        bar = u\"\\u25A2\"*9\n",
    "        \n",
    "print('Password Strength: {}  {}'.format(bar,est[0]))"
   ]
  },
  {
   "cell_type": "code",
   "execution_count": 58,
   "id": "5631ddb0",
   "metadata": {},
   "outputs": [
    {
     "name": "stdout",
     "output_type": "stream",
     "text": [
      "Password Strength: u\"▢\"*3  Strong\n"
     ]
    }
   ],
   "source": [
    "print('Password Strength: u\"\\u25A2\"*3  {}'.format(est[0]))"
   ]
  },
  {
   "cell_type": "code",
   "execution_count": null,
   "id": "c4d9cf5c",
   "metadata": {},
   "outputs": [],
   "source": []
  },
  {
   "cell_type": "code",
   "execution_count": null,
   "id": "ef11c912",
   "metadata": {},
   "outputs": [],
   "source": []
  }
 ],
 "metadata": {
  "kernelspec": {
   "display_name": "Python 3 (ipykernel)",
   "language": "python",
   "name": "python3"
  },
  "language_info": {
   "codemirror_mode": {
    "name": "ipython",
    "version": 3
   },
   "file_extension": ".py",
   "mimetype": "text/x-python",
   "name": "python",
   "nbconvert_exporter": "python",
   "pygments_lexer": "ipython3",
   "version": "3.9.13"
  }
 },
 "nbformat": 4,
 "nbformat_minor": 5
}

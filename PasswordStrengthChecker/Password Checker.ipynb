{
 "cells": [
  {
   "cell_type": "markdown",
   "id": "060ccdac",
   "metadata": {},
   "source": [
    "## Password Strength Check\n",
    "\n",
    "This notebook is a small-scale project meant to provide some insight into the means of how passwords can be assessed in terms of how strong they are by training a ML model on a dataset of variable length/complexity passwords each with an assigned label of \"weak\", \"medium\" or \"strong\".\n",
    "\n",
    "To try this out, I've made use of a free dataset available on [Kaggle](https://www.kaggle.com/datasets/bhavikbb/password-strength-classifier-dataset?resource=download)"
   ]
  },
  {
   "cell_type": "markdown",
   "id": "8daf5348",
   "metadata": {},
   "source": [
    "To start with, we can import the necessary packages. `Matplotlib` and `seaborn` for some appealing plotting,`pandas` for data reading and manipulation, `numpy` for numerical processing, and for the actual machine learning itself, we will try using a random forest classification system. `sklearn` will cover all of this"
   ]
  },
  {
   "cell_type": "code",
   "execution_count": 11,
   "id": "d7e46bfe",
   "metadata": {},
   "outputs": [
    {
     "name": "stdout",
     "output_type": "stream",
     "text": [
      "           password  strength\n",
      "0          kzde5577         1\n",
      "1          kino3434         1\n",
      "2         visi7k1yr         1\n",
      "3          megzy123         1\n",
      "4       lamborghin1         1\n",
      "5  AVYq1lDE4MgAZfNt         2\n",
      "6          u6c8vhow         1\n",
      "7          v1118714         1\n",
      "8      universe2908         1\n",
      "9          as326159         1\n",
      "\n",
      "Number of entries;\t 669640\n"
     ]
    }
   ],
   "source": [
    "import numpy as np\n",
    "import matplotlib.pyplot as plt\n",
    "import seaborn as sns; sns.set()\n",
    "import pandas as pd\n",
    "import getpass\n",
    "from sklearn.ensemble import RandomForestClassifier\n",
    "from sklearn.feature_extraction.text import CountVectorizer\n",
    "from sklearn.feature_extraction.text import TfidfVectorizer\n",
    "from sklearn.model_selection import train_test_split\n",
    "\n",
    "#When readin in the data, the potential for non-standard strings including the likes of too many ','s may cause issues,\n",
    "#but we want to keep these as they are part of the actual passwords. error_bad_lines ensures this and warn_bad__lines \n",
    "#set to False suppresses warnings for each line where this occurs\n",
    "df = pd.read_csv(\"password.csv\", error_bad_lines=False, warn_bad_lines=False)\n",
    "print(df.head(10))\n",
    "print('\\nNumber of entries;\\t ' + str(len(df)))"
   ]
  },
  {
   "cell_type": "markdown",
   "id": "ce8d3cbe",
   "metadata": {},
   "source": [
    "Above, we see that we have ~670,000 passwords in our dataframe, each with an assigned strength value from 0-2;\n",
    "\n",
    "##### 0: Password is weak\n",
    "##### 1: Password is average\n",
    "##### 2: Password is strong\n",
    "\n",
    "To make things easier, we can simply just convert these from a numeric to categorical type by replacing the int values with their corresponding stregth"
   ]
  },
  {
   "cell_type": "code",
   "execution_count": 12,
   "id": "e1734e72",
   "metadata": {},
   "outputs": [
    {
     "data": {
      "text/html": [
       "<div>\n",
       "<style scoped>\n",
       "    .dataframe tbody tr th:only-of-type {\n",
       "        vertical-align: middle;\n",
       "    }\n",
       "\n",
       "    .dataframe tbody tr th {\n",
       "        vertical-align: top;\n",
       "    }\n",
       "\n",
       "    .dataframe thead th {\n",
       "        text-align: right;\n",
       "    }\n",
       "</style>\n",
       "<table border=\"1\" class=\"dataframe\">\n",
       "  <thead>\n",
       "    <tr style=\"text-align: right;\">\n",
       "      <th></th>\n",
       "      <th>password</th>\n",
       "      <th>strength</th>\n",
       "    </tr>\n",
       "  </thead>\n",
       "  <tbody>\n",
       "    <tr>\n",
       "      <th>212733</th>\n",
       "      <td>ROkqr6TQ2NAL9s3G</td>\n",
       "      <td>Strong</td>\n",
       "    </tr>\n",
       "    <tr>\n",
       "      <th>507969</th>\n",
       "      <td>zefife332</td>\n",
       "      <td>Medium</td>\n",
       "    </tr>\n",
       "    <tr>\n",
       "      <th>601414</th>\n",
       "      <td>Hamma.abbes1995</td>\n",
       "      <td>Strong</td>\n",
       "    </tr>\n",
       "    <tr>\n",
       "      <th>661131</th>\n",
       "      <td>513UHoxUJOkETY</td>\n",
       "      <td>Strong</td>\n",
       "    </tr>\n",
       "    <tr>\n",
       "      <th>91450</th>\n",
       "      <td>7BSgLQDc0NwQZygP</td>\n",
       "      <td>Strong</td>\n",
       "    </tr>\n",
       "    <tr>\n",
       "      <th>471432</th>\n",
       "      <td>f1adb1</td>\n",
       "      <td>Weak</td>\n",
       "    </tr>\n",
       "    <tr>\n",
       "      <th>384114</th>\n",
       "      <td>s0p0rt3@pj.gob.pe</td>\n",
       "      <td>Strong</td>\n",
       "    </tr>\n",
       "    <tr>\n",
       "      <th>483779</th>\n",
       "      <td>24JUILLET</td>\n",
       "      <td>Medium</td>\n",
       "    </tr>\n",
       "    <tr>\n",
       "      <th>291846</th>\n",
       "      <td>utoryg272</td>\n",
       "      <td>Medium</td>\n",
       "    </tr>\n",
       "    <tr>\n",
       "      <th>632106</th>\n",
       "      <td>vumisuz520</td>\n",
       "      <td>Medium</td>\n",
       "    </tr>\n",
       "  </tbody>\n",
       "</table>\n",
       "</div>"
      ],
      "text/plain": [
       "                 password strength\n",
       "212733   ROkqr6TQ2NAL9s3G   Strong\n",
       "507969          zefife332   Medium\n",
       "601414    Hamma.abbes1995   Strong\n",
       "661131     513UHoxUJOkETY   Strong\n",
       "91450    7BSgLQDc0NwQZygP   Strong\n",
       "471432             f1adb1     Weak\n",
       "384114  s0p0rt3@pj.gob.pe   Strong\n",
       "483779          24JUILLET   Medium\n",
       "291846          utoryg272   Medium\n",
       "632106         vumisuz520   Medium"
      ]
     },
     "execution_count": 12,
     "metadata": {},
     "output_type": "execute_result"
    }
   ],
   "source": [
    "df = df.dropna()\n",
    "df[\"strength\"] = df[\"strength\"].map({0: \"Weak\", 1: \"Medium\", 2: \"Strong\"})\n",
    "df.sample(10)"
   ]
  },
  {
   "cell_type": "markdown",
   "id": "117826f3",
   "metadata": {},
   "source": [
    "Good. Now we can see that our dataset is both free of NaN values and is readily classifiable based on the strenght property. We can now look to actually training an ML model on it as a measn of predictiong strength\n",
    "One of the first things we need to do is tokenisation; Essentially a means of learning from the combination of random characters, letters and numbers and how their combination leads to higher or lower stregnth\n",
    "\n",
    "A small apendix on tokenisation will be at the end of this notebook, just for posterity's sake"
   ]
  },
  {
   "cell_type": "code",
   "execution_count": 13,
   "id": "ac8966b1",
   "metadata": {},
   "outputs": [],
   "source": [
    "##To start tokenising our data, we can first define a function to deconstruct a password into an \n",
    "#array of its charcaters\n",
    "\n",
    "def chars(password):\n",
    "    chars = []\n",
    "    for i in password:\n",
    "        chars.append(i)\n",
    "    return chars\n",
    "\n",
    "x_data = np.array(df['password'])\n",
    "y_data = np.array(df['strength'])\n",
    "\n",
    "#With our data seperated into arrays, we can run some vectorisation using our chars func (the tokeniser), \n",
    "#and the tfidf function from sklearn (the vectoriser).\n",
    "tdif = TfidfVectorizer(tokenizer=chars)\n",
    "x_data = tdif.fit_transform(x_data)\n",
    "xtrain, xtest, ytrain, ytest = train_test_split(x_data,y_data,test_size=0.05,random_state=27)\n"
   ]
  },
  {
   "cell_type": "markdown",
   "id": "17045b04",
   "metadata": {},
   "source": [
    "Now that we've run both the tokenisation and splitting the dataset into train and test sets, we can actually run our\n",
    "model training and estimation"
   ]
  },
  {
   "cell_type": "code",
   "execution_count": 14,
   "id": "3a7f4f39",
   "metadata": {},
   "outputs": [
    {
     "name": "stderr",
     "output_type": "stream",
     "text": [
      "[Parallel(n_jobs=10)]: Using backend ThreadingBackend with 10 concurrent workers.\n"
     ]
    },
    {
     "name": "stdout",
     "output_type": "stream",
     "text": [
      "building tree 1 of 100building tree 2 of 100\n",
      "\n",
      "building tree 3 of 100\n",
      "building tree 4 of 100\n",
      "building tree 5 of 100\n",
      "building tree 6 of 100\n",
      "building tree 7 of 100\n",
      "building tree 8 of 100\n",
      "building tree 9 of 100\n",
      "building tree 10 of 100\n",
      "building tree 11 of 100\n",
      "building tree 12 of 100\n",
      "building tree 13 of 100\n",
      "building tree 14 of 100\n",
      "building tree 15 of 100\n",
      "building tree 16 of 100\n",
      "building tree 17 of 100\n",
      "building tree 18 of 100\n",
      "building tree 19 of 100\n",
      "building tree 20 of 100\n",
      "building tree 21 of 100\n",
      "building tree 22 of 100\n",
      "building tree 23 of 100\n"
     ]
    },
    {
     "name": "stderr",
     "output_type": "stream",
     "text": [
      "[Parallel(n_jobs=10)]: Done  12 tasks      | elapsed:   31.5s\n"
     ]
    },
    {
     "name": "stdout",
     "output_type": "stream",
     "text": [
      "building tree 24 of 100\n",
      "building tree 25 of 100\n",
      "building tree 26 of 100\n",
      "building tree 27 of 100\n",
      "building tree 28 of 100\n",
      "building tree 29 of 100\n",
      "building tree 30 of 100\n",
      "building tree 31 of 100\n",
      "building tree 32 of 100\n",
      "building tree 33 of 100\n",
      "building tree 34 of 100\n",
      "building tree 35 of 100\n",
      "building tree 36 of 100\n",
      "building tree 37 of 100\n",
      "building tree 38 of 100\n",
      "building tree 39 of 100\n",
      "building tree 40 of 100\n",
      "building tree 41 of 100\n",
      "building tree 42 of 100\n",
      "building tree 43 of 100\n",
      "building tree 44 of 100\n",
      "building tree 45 of 100\n",
      "building tree 46 of 100\n",
      "building tree 47 of 100\n",
      "building tree 48 of 100\n",
      "building tree 49 of 100\n",
      "building tree 50 of 100\n",
      "building tree 51 of 100\n",
      "building tree 52 of 100\n",
      "building tree 53 of 100\n",
      "building tree 54 of 100\n",
      "building tree 55 of 100\n",
      "building tree 56 of 100\n",
      "building tree 57 of 100\n",
      "building tree 58 of 100\n",
      "building tree 59 of 100\n",
      "building tree 60 of 100\n",
      "building tree 61 of 100\n",
      "building tree 62 of 100\n",
      "building tree 63 of 100\n",
      "building tree 64 of 100\n",
      "building tree 65 of 100\n",
      "building tree 66 of 100\n",
      "building tree 67 of 100\n",
      "building tree 68 of 100\n",
      "building tree 69 of 100\n",
      "building tree 70 of 100\n",
      "building tree 71 of 100\n",
      "building tree 72 of 100\n",
      "building tree 73 of 100\n",
      "building tree 74 of 100\n",
      "building tree 75 of 100\n",
      "building tree 76 of 100\n",
      "building tree 77 of 100\n",
      "building tree 78 of 100\n",
      "building tree 79 of 100\n",
      "building tree 80 of 100\n",
      "building tree 81 of 100\n",
      "building tree 82 of 100\n",
      "building tree 83 of 100\n",
      "building tree 84 of 100\n",
      "building tree 85 of 100\n",
      "building tree 86 of 100\n",
      "building tree 87 of 100\n",
      "building tree 88 of 100\n",
      "building tree 89 of 100\n",
      "building tree 90 of 100\n",
      "building tree 91 of 100\n",
      "building tree 92 of 100\n",
      "building tree 93 of 100\n",
      "building tree 94 of 100\n",
      "building tree 95 of 100\n",
      "building tree 96 of 100\n",
      "building tree 97 of 100\n",
      "building tree 98 of 100\n",
      "building tree 99 of 100\n",
      "building tree 100 of 100\n"
     ]
    },
    {
     "name": "stderr",
     "output_type": "stream",
     "text": [
      "[Parallel(n_jobs=10)]: Done 100 out of 100 | elapsed:  2.5min finished\n",
      "[Parallel(n_jobs=10)]: Using backend ThreadingBackend with 10 concurrent workers.\n",
      "[Parallel(n_jobs=10)]: Done  12 tasks      | elapsed:    0.0s\n"
     ]
    },
    {
     "name": "stdout",
     "output_type": "stream",
     "text": [
      "Model score: 0.9559464787049758\n"
     ]
    },
    {
     "name": "stderr",
     "output_type": "stream",
     "text": [
      "[Parallel(n_jobs=10)]: Done 100 out of 100 | elapsed:    0.2s finished\n"
     ]
    }
   ],
   "source": [
    "model = RandomForestClassifier(n_jobs=10, verbose=3) #verbose will give updates on current tree being built\n",
    "model.fit(xtrain, ytrain)\n",
    "print('Model score: {}'.format(str(model.score(xtest, ytest))))"
   ]
  },
  {
   "cell_type": "markdown",
   "id": "8ceb4940",
   "metadata": {},
   "source": [
    "From above, we see that our random forest is assessing our testing data with around 65% accuracy, which is decent enough and can potentially be improved upon with decreasing our test sample alittle more\n",
    "But with this acceptable level of accuracy, we can then try it our for ourselves with our own custom password we can pass and fit apply to our fittedn model"
   ]
  },
  {
   "cell_type": "code",
   "execution_count": 15,
   "id": "4e3dfc8f",
   "metadata": {},
   "outputs": [
    {
     "name": "stdin",
     "output_type": "stream",
     "text": [
      "Please enter password:  ········\n"
     ]
    },
    {
     "name": "stdout",
     "output_type": "stream",
     "text": [
      "Password Strength: 🟨🟨🟨🟨🟨🟨  Medium\n"
     ]
    },
    {
     "name": "stderr",
     "output_type": "stream",
     "text": [
      "[Parallel(n_jobs=10)]: Using backend ThreadingBackend with 10 concurrent workers.\n",
      "[Parallel(n_jobs=10)]: Done  12 tasks      | elapsed:    0.0s\n",
      "[Parallel(n_jobs=10)]: Done 100 out of 100 | elapsed:    0.0s finished\n"
     ]
    }
   ],
   "source": [
    "#already imported the getpass module\n",
    "usr = getpass.getpass('Please enter password: ')\n",
    "dat = tdif.transform([usr]).toarray()\n",
    "est = model.predict(dat)[0]\n",
    "\n",
    "dict = {\"Weak\": u\"\\U0001F7E5\"*3, \"Medium\": u\"\\U0001F7E8\"*6, \"Strong\": u\"\\U0001F7E9\"*9}\n",
    "        \n",
    "print('Password Strength: {}  {}'.format(dict[est],est))"
   ]
  },
  {
   "cell_type": "code",
   "execution_count": null,
   "id": "5631ddb0",
   "metadata": {},
   "outputs": [],
   "source": []
  },
  {
   "cell_type": "code",
   "execution_count": null,
   "id": "c4d9cf5c",
   "metadata": {},
   "outputs": [],
   "source": []
  },
  {
   "cell_type": "markdown",
   "id": "1669f338",
   "metadata": {},
   "source": [
    "## Appendix A.1: Tokenisation\n",
    "\n",
    "In the above method, we talked about how we first had to tokenise our password data in order to make it classifiable for our random forest classifier method. As such, its worth giving some superficial background and info on tokenisation (both word and sentence).\n",
    "\n",
    "Tokenisation is just the method of breaking up text material into separable units, such as words, strings or characters, with any of these units being referred to as **tokens**. In the area of natural language processing, theres typically 2 types;\n",
    "\n",
    "<ol>\n",
    "    <li>Sentence Tokenisation: This is the breaking of large pieces of text data into sentences. Mostly, you can see this in the form of breaking paragraphs into sentences. This can be easy in NLP, since for many languages, sentences are delimited by the period mark, so a tokenizer can just find all the full stops in a piece of text, and breaks the paragraph into tokens seperated by these periods.\n",
    "    <li>Word Tokenisation: This is the most common form seen in NLP. While paragraphs are composed of sentences, sentences are composed of words, so tokenising a sentence requires finding the separator, here a space, with which it can break sentences into tokens of words.\n",
    "<\\ol>\n",
    "    \n",
    "    \n",
    "    \n"
   ]
  },
  {
   "cell_type": "markdown",
   "id": "15455e92-aeb5-49ac-b899-820ad1f95b58",
   "metadata": {},
   "source": [
    "## Apendix A.2: TF-DIF\n",
    "\n",
    "When we seperated our data into x and y sets as `password` and `strengh`, we setup something called a vetoriser which employed the `TfidfVectorizer`, which took in our char function as its tokeniser. This function is based off the **Text Frequency-Inverse Document Frequency** algorithm, a popular and robust method of converting textual data into a vector of numerical data. It combines both the *term frequency* and *document frequency*\n",
    "\n",
    "<ul>\n",
    "    <li> Term Frequency: This is the frequency with which specific terms occur in a document i.e. how significant certain terms must be. it works by representing textual information as a matric, with rows being the different documents in am available dataset, and columns being all the distinct terms\n",
    "    <li> Document Frequency: This is the number of documents that contain a specific term and gives measure to how important said term likely is\n",
    "<\\ul>\n",
    "\n",
    "IDF (Inverse Document Frequency) is the weight of a given term (how much information a term provides), where it will attribute a lower weight to a term which is occurence is very sporadic and scattered across a wide number of documents. It's a logarithmic scale and can is given by;\n",
    "    \n",
    "$$idf_i = log(N/d \\{d \\in D\\})$$\n",
    "    \n",
    "where $idf_i$ is the IDF score for a term i, N is the total number of documents in a corups, d is the number of documents in which the term i appears.\n",
    "From this, we see the inverse relation; the bigger the DF, the lower the IDF of a term. When the DF is equal to N i.e. when the term i is in every single document in the corpus, then we just get an IDF of 0, meaning the term provides no useful information for our vectorisation interests.\n",
    "\n",
    "So with this value giving us some weight of a terms informational importance, and a measure of term frequency from the TF value, the value of TF-IDF is just the product of the IDF value with the DF matrix;\n",
    "    \n",
    "$$tdfidf(t,d,D) = tf(t,d) \\cdot idf(t,D)$$\n",
    "    \n",
    "where t is the term of interest, d is a document and D is the entire corpus of documents assessed\n"
   ]
  },
  {
   "cell_type": "code",
   "execution_count": null,
   "id": "505342df-877f-4aca-a017-214d81d4ae7b",
   "metadata": {},
   "outputs": [],
   "source": []
  }
 ],
 "metadata": {
  "kernelspec": {
   "display_name": "Python 3 (ipykernel)",
   "language": "python",
   "name": "python3"
  },
  "language_info": {
   "codemirror_mode": {
    "name": "ipython",
    "version": 3
   },
   "file_extension": ".py",
   "mimetype": "text/x-python",
   "name": "python",
   "nbconvert_exporter": "python",
   "pygments_lexer": "ipython3",
   "version": "3.9.13"
  }
 },
 "nbformat": 4,
 "nbformat_minor": 5
}
